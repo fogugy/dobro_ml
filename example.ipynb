{
 "cells": [
  {
   "cell_type": "code",
   "execution_count": 1,
   "metadata": {},
   "outputs": [],
   "source": [
    "import pickle\n",
    "import warnings\n",
    "import json"
   ]
  },
  {
   "cell_type": "code",
   "execution_count": 2,
   "metadata": {},
   "outputs": [],
   "source": [
    "with open('./predictor.model', 'rb') as f:\n",
    "    p = pickle.load(f)"
   ]
  },
  {
   "cell_type": "code",
   "execution_count": 3,
   "metadata": {},
   "outputs": [],
   "source": [
    "warnings.filterwarnings(\"ignore\")"
   ]
  },
  {
   "cell_type": "code",
   "execution_count": 4,
   "metadata": {},
   "outputs": [],
   "source": [
    "from simple_http_server import request_map, server, Parameter"
   ]
  },
  {
   "cell_type": "code",
   "execution_count": null,
   "metadata": {},
   "outputs": [
    {
     "name": "stdout",
     "output_type": "stream",
     "text": [
      "[2020-09-17 19:12:11]-[simple_http_server.http_server]-[line:98] -INFO: Dispatcher Http Server starts. Listen to port [4444]\n",
      "[2020-09-17 19:12:15]-[simple_http_server.http_server]-[line:102] -ERROR: error occurs! returning 500\n",
      "Traceback (most recent call last):\n",
      "  File \"/usr/local/lib/python3.8/site-packages/simple_http_server/http_server.py\", line 410, in __process\n",
      "    ctx.do_chain()\n",
      "  File \"/usr/local/lib/python3.8/site-packages/simple_http_server/http_server.py\", line 136, in do_chain\n",
      "    ctr_res = self.__controller(*args)\n",
      "  File \"<ipython-input-5-9d12aad65581>\", line 4, in normal_form_post\n",
      "    return 200, json.dumps({'response': r})\n",
      "  File \"/usr/local/lib/python3.8/json/__init__.py\", line 231, in dumps\n",
      "    return _default_encoder.encode(obj)\n",
      "  File \"/usr/local/lib/python3.8/json/encoder.py\", line 199, in encode\n",
      "    chunks = self.iterencode(o, _one_shot=True)\n",
      "  File \"/usr/local/lib/python3.8/json/encoder.py\", line 257, in iterencode\n",
      "    return _iterencode(o, 0)\n",
      "  File \"/usr/local/lib/python3.8/json/encoder.py\", line 179, in default\n",
      "    raise TypeError(f'Object of type {o.__class__.__name__} '\n",
      "TypeError: Object of type bool_ is not JSON serializable\n",
      "[2020-09-17 19:12:15]-[simple_http_server.http_server]-[line:98] -INFO: 172.17.0.1 -  \"POST /predict HTTP/1.1\" 500 -\n"
     ]
    }
   ],
   "source": [
    "@request_map(\"/predict\", method=\"POST\")\n",
    "def normal_form_post(text):\n",
    "    r = p.predict(text)\n",
    "    return 200, json.dumps({'response': 'common' if r else ''})\n",
    "\n",
    "@request_map(\"/test\", method=\"GET\")\n",
    "def test():\n",
    "    return 200\n",
    "\n",
    "server.start(port=4444)"
   ]
  },
  {
   "cell_type": "code",
   "execution_count": null,
   "metadata": {},
   "outputs": [],
   "source": []
  }
 ],
 "metadata": {
  "kernelspec": {
   "display_name": "Python 3",
   "language": "python",
   "name": "python3"
  },
  "language_info": {
   "codemirror_mode": {
    "name": "ipython",
    "version": 3
   },
   "file_extension": ".py",
   "mimetype": "text/x-python",
   "name": "python",
   "nbconvert_exporter": "python",
   "pygments_lexer": "ipython3",
   "version": "3.8.5"
  }
 },
 "nbformat": 4,
 "nbformat_minor": 4
}
