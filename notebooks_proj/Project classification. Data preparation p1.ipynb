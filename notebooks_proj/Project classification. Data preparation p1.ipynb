{
 "cells": [
  {
   "cell_type": "code",
   "execution_count": 2,
   "metadata": {
    "scrolled": true
   },
   "outputs": [
    {
     "name": "stderr",
     "output_type": "stream",
     "text": [
      "/usr/local/lib/python3.6/site-packages/pandas/compat/__init__.py:120: UserWarning: Could not import the lzma module. Your installed Python is incomplete. Attempting to use lzma compression will result in a RuntimeError.\n",
      "  warnings.warn(msg)\n"
     ]
    }
   ],
   "source": [
    "import re\n",
    "import string\n",
    "import pandas as pd\n",
    "import numpy as np\n",
    "import matplotlib.pyplot as plt\n",
    "import nltk\n",
    "from pymorphy2 import MorphAnalyzer\n",
    "from nltk.corpus import stopwords\n",
    "from collections import Counter"
   ]
  },
  {
   "cell_type": "code",
   "execution_count": 3,
   "metadata": {},
   "outputs": [],
   "source": [
    "# !pip install nltk\n",
    "# nltk.download(\"stopwords\")"
   ]
  },
  {
   "cell_type": "code",
   "execution_count": 35,
   "metadata": {},
   "outputs": [],
   "source": [
    "df = pd.read_csv('./data/datav1.csv', sep=';')\n",
    "df2 = pd.read_csv('./data/data_done.csv', sep=';')"
   ]
  },
  {
   "cell_type": "code",
   "execution_count": 36,
   "metadata": {},
   "outputs": [],
   "source": [
    "df2 = df2[df2['common'] >= 0]"
   ]
  },
  {
   "cell_type": "code",
   "execution_count": 37,
   "metadata": {},
   "outputs": [],
   "source": [
    "df = df.append(df2, ignore_index=True)"
   ]
  },
  {
   "cell_type": "code",
   "execution_count": 38,
   "metadata": {},
   "outputs": [
    {
     "data": {
      "text/plain": [
       "(763, 4)"
      ]
     },
     "execution_count": 38,
     "metadata": {},
     "output_type": "execute_result"
    }
   ],
   "source": [
    "df.shape"
   ]
  },
  {
   "cell_type": "code",
   "execution_count": 39,
   "metadata": {},
   "outputs": [
    {
     "name": "stdout",
     "output_type": "stream",
     "text": [
      "302 / 763\n"
     ]
    }
   ],
   "source": [
    "print(int(df['common'].sum()), '/', df['common'].count())"
   ]
  },
  {
   "cell_type": "code",
   "execution_count": 42,
   "metadata": {},
   "outputs": [
    {
     "data": {
      "image/png": "[encoded data removed]",
      "text/plain": [
       "<Figure size 432x288 with 1 Axes>"
      ]
     },
     "metadata": {
      "needs_background": "light"
     },
     "output_type": "display_data"
    }
   ],
   "source": [
    "plt.hist(df.common, bins=2, range=[0,1])\n",
    "plt.xticks([0,1]);"
   ]
  },
  {
   "cell_type": "code",
   "execution_count": 43,
   "metadata": {},
   "outputs": [],
   "source": [
    "re_punct = re.compile(f'[{string.punctuation}0-9\\– ]+')\n",
    "russian_stopwords = stopwords.words(\"russian\")\n",
    "morpher = MorphAnalyzer()\n",
    "\n",
    "def punct(text):\n",
    "    return re.sub(re_punct, ' ', text)\n",
    "\n",
    "def clear(arr):\n",
    "    return [w for w in arr if not w in russian_stopwords]\n",
    "\n",
    "def lemmatize(arr):\n",
    "    pass\n",
    "\n",
    "def prepare_text(text):\n",
    "    text = punct(text)\n",
    "    t_arr = clear(text.split())\n",
    "    return ' '.join(t_arr)\n",
    "\n",
    "def pos(text):\n",
    "    tags = [str(morpher.parse(w)[0].tag) for w in text.split(' ')]\n",
    "    return Counter(tags)"
   ]
  },
  {
   "cell_type": "code",
   "execution_count": 44,
   "metadata": {},
   "outputs": [],
   "source": [
    "df['prepared'] = df.apply(lambda row: prepare_text(f\"{row['title']} {row['short']} {row['text']}\"), axis=1)"
   ]
  },
  {
   "cell_type": "code",
   "execution_count": 45,
   "metadata": {},
   "outputs": [],
   "source": [
    "bag_of_words = set()\n",
    "bow_tags = set()\n",
    "\n",
    "for txt in df['prepared'][:5]:\n",
    "    for w in txt.split(' '):\n",
    "        bag_of_words.add(w)\n",
    "        bow_tags = bow_tags | set([str(morpher.parse(w)[0].tag)])"
   ]
  },
  {
   "cell_type": "code",
   "execution_count": 46,
   "metadata": {},
   "outputs": [],
   "source": [
    "tags_cols = list(bow_tags)"
   ]
  },
  {
   "cell_type": "code",
   "execution_count": 47,
   "metadata": {},
   "outputs": [],
   "source": [
    "dff = df[['common']].copy()\n",
    "tags_shape = [df.shape[0], len(tags_cols)]\n",
    "dff[tags_cols] = np.zeros(tags_shape)"
   ]
  },
  {
   "cell_type": "code",
   "execution_count": 48,
   "metadata": {},
   "outputs": [],
   "source": [
    "for index, row in df.iterrows():\n",
    "    pos_dict = pos(row['prepared'])\n",
    "    for key, value in pos_dict.items():\n",
    "        if key in bow_tags:\n",
    "            dff.iloc[index][key] = value"
   ]
  },
  {
   "cell_type": "code",
   "execution_count": 49,
   "metadata": {},
   "outputs": [
    {
     "data": {
      "text/html": [
       "<div>\n",
       "<style scoped>\n",
       "    .dataframe tbody tr th:only-of-type {\n",
       "        vertical-align: middle;\n",
       "    }\n",
       "\n",
       "    .dataframe tbody tr th {\n",
       "        vertical-align: top;\n",
       "    }\n",
       "\n",
       "    .dataframe thead th {\n",
       "        text-align: right;\n",
       "    }\n",
       "</style>\n",
       "<table border=\"1\" class=\"dataframe\">\n",
       "  <thead>\n",
       "    <tr style=\"text-align: right;\">\n",
       "      <th></th>\n",
       "      <th>common</th>\n",
       "      <th>VERB,impf,intr masc,sing,past,indc</th>\n",
       "      <th>ADJF,Qual plur,ablt</th>\n",
       "      <th>ADVB,Prdx</th>\n",
       "      <th>GRND,impf,intr pres</th>\n",
       "      <th>PRCL</th>\n",
       "      <th>ADJF,Qual plur,datv</th>\n",
       "      <th>NOUN,inan,GNdr,Pltm plur,nomn</th>\n",
       "      <th>PRTF,perf,tran,past,pssv masc,sing,loct</th>\n",
       "      <th>NOUN,anim,masc,Name sing,loct</th>\n",
       "      <th>...</th>\n",
       "      <th>PRTF,perf,tran,past,pssv plur,gent</th>\n",
       "      <th>NOUN,inan,neut plur,gent</th>\n",
       "      <th>ADJF,Qual femn,sing,gent</th>\n",
       "      <th>VERB,perf,intr femn,sing,past,indc</th>\n",
       "      <th>NOUN,anim,masc sing,nomn</th>\n",
       "      <th>NOUN,anim,GNdr,Pltm plur,datv</th>\n",
       "      <th>NUMR nomn</th>\n",
       "      <th>VERB,impf,tran plur,past,indc</th>\n",
       "      <th>ADJF masc,sing,gent</th>\n",
       "      <th>NOUN,anim,masc,Name sing,datv</th>\n",
       "    </tr>\n",
       "  </thead>\n",
       "  <tbody>\n",
       "    <tr>\n",
       "      <th>count</th>\n",
       "      <td>763.000000</td>\n",
       "      <td>763.000000</td>\n",
       "      <td>763.000000</td>\n",
       "      <td>763.000000</td>\n",
       "      <td>763.000000</td>\n",
       "      <td>763.000000</td>\n",
       "      <td>763.000000</td>\n",
       "      <td>763.000000</td>\n",
       "      <td>763.000000</td>\n",
       "      <td>763.000000</td>\n",
       "      <td>...</td>\n",
       "      <td>763.000000</td>\n",
       "      <td>763.000000</td>\n",
       "      <td>763.000000</td>\n",
       "      <td>763.000000</td>\n",
       "      <td>763.000000</td>\n",
       "      <td>763.000000</td>\n",
       "      <td>763.000000</td>\n",
       "      <td>763.000000</td>\n",
       "      <td>763.000000</td>\n",
       "      <td>763.000000</td>\n",
       "    </tr>\n",
       "    <tr>\n",
       "      <th>mean</th>\n",
       "      <td>0.395806</td>\n",
       "      <td>0.923984</td>\n",
       "      <td>0.583224</td>\n",
       "      <td>1.241153</td>\n",
       "      <td>0.195282</td>\n",
       "      <td>3.152031</td>\n",
       "      <td>0.363041</td>\n",
       "      <td>0.145478</td>\n",
       "      <td>0.028834</td>\n",
       "      <td>0.204456</td>\n",
       "      <td>...</td>\n",
       "      <td>0.094364</td>\n",
       "      <td>1.349934</td>\n",
       "      <td>1.545216</td>\n",
       "      <td>1.842726</td>\n",
       "      <td>3.302752</td>\n",
       "      <td>0.155963</td>\n",
       "      <td>0.432503</td>\n",
       "      <td>0.714286</td>\n",
       "      <td>0.934469</td>\n",
       "      <td>0.705111</td>\n",
       "    </tr>\n",
       "    <tr>\n",
       "      <th>std</th>\n",
       "      <td>0.489344</td>\n",
       "      <td>1.648825</td>\n",
       "      <td>0.913205</td>\n",
       "      <td>1.290805</td>\n",
       "      <td>0.472197</td>\n",
       "      <td>2.425359</td>\n",
       "      <td>0.674272</td>\n",
       "      <td>0.414393</td>\n",
       "      <td>0.167448</td>\n",
       "      <td>0.671998</td>\n",
       "      <td>...</td>\n",
       "      <td>0.388830</td>\n",
       "      <td>1.468643</td>\n",
       "      <td>1.572062</td>\n",
       "      <td>2.061752</td>\n",
       "      <td>2.902860</td>\n",
       "      <td>0.512879</td>\n",
       "      <td>0.850563</td>\n",
       "      <td>1.049756</td>\n",
       "      <td>1.301485</td>\n",
       "      <td>1.285213</td>\n",
       "    </tr>\n",
       "    <tr>\n",
       "      <th>min</th>\n",
       "      <td>0.000000</td>\n",
       "      <td>0.000000</td>\n",
       "      <td>0.000000</td>\n",
       "      <td>0.000000</td>\n",
       "      <td>0.000000</td>\n",
       "      <td>0.000000</td>\n",
       "      <td>0.000000</td>\n",
       "      <td>0.000000</td>\n",
       "      <td>0.000000</td>\n",
       "      <td>0.000000</td>\n",
       "      <td>...</td>\n",
       "      <td>0.000000</td>\n",
       "      <td>0.000000</td>\n",
       "      <td>0.000000</td>\n",
       "      <td>0.000000</td>\n",
       "      <td>0.000000</td>\n",
       "      <td>0.000000</td>\n",
       "      <td>0.000000</td>\n",
       "      <td>0.000000</td>\n",
       "      <td>0.000000</td>\n",
       "      <td>0.000000</td>\n",
       "    </tr>\n",
       "    <tr>\n",
       "      <th>25%</th>\n",
       "      <td>0.000000</td>\n",
       "      <td>0.000000</td>\n",
       "      <td>0.000000</td>\n",
       "      <td>0.000000</td>\n",
       "      <td>0.000000</td>\n",
       "      <td>1.000000</td>\n",
       "      <td>0.000000</td>\n",
       "      <td>0.000000</td>\n",
       "      <td>0.000000</td>\n",
       "      <td>0.000000</td>\n",
       "      <td>...</td>\n",
       "      <td>0.000000</td>\n",
       "      <td>0.000000</td>\n",
       "      <td>0.000000</td>\n",
       "      <td>0.000000</td>\n",
       "      <td>1.000000</td>\n",
       "      <td>0.000000</td>\n",
       "      <td>0.000000</td>\n",
       "      <td>0.000000</td>\n",
       "      <td>0.000000</td>\n",
       "      <td>0.000000</td>\n",
       "    </tr>\n",
       "    <tr>\n",
       "      <th>50%</th>\n",
       "      <td>0.000000</td>\n",
       "      <td>0.000000</td>\n",
       "      <td>0.000000</td>\n",
       "      <td>1.000000</td>\n",
       "      <td>0.000000</td>\n",
       "      <td>3.000000</td>\n",
       "      <td>0.000000</td>\n",
       "      <td>0.000000</td>\n",
       "      <td>0.000000</td>\n",
       "      <td>0.000000</td>\n",
       "      <td>...</td>\n",
       "      <td>0.000000</td>\n",
       "      <td>1.000000</td>\n",
       "      <td>1.000000</td>\n",
       "      <td>1.000000</td>\n",
       "      <td>3.000000</td>\n",
       "      <td>0.000000</td>\n",
       "      <td>0.000000</td>\n",
       "      <td>0.000000</td>\n",
       "      <td>0.000000</td>\n",
       "      <td>0.000000</td>\n",
       "    </tr>\n",
       "    <tr>\n",
       "      <th>75%</th>\n",
       "      <td>1.000000</td>\n",
       "      <td>1.000000</td>\n",
       "      <td>1.000000</td>\n",
       "      <td>2.000000</td>\n",
       "      <td>0.000000</td>\n",
       "      <td>4.000000</td>\n",
       "      <td>1.000000</td>\n",
       "      <td>0.000000</td>\n",
       "      <td>0.000000</td>\n",
       "      <td>0.000000</td>\n",
       "      <td>...</td>\n",
       "      <td>0.000000</td>\n",
       "      <td>2.000000</td>\n",
       "      <td>2.000000</td>\n",
       "      <td>3.000000</td>\n",
       "      <td>5.000000</td>\n",
       "      <td>0.000000</td>\n",
       "      <td>1.000000</td>\n",
       "      <td>1.000000</td>\n",
       "      <td>1.000000</td>\n",
       "      <td>1.000000</td>\n",
       "    </tr>\n",
       "    <tr>\n",
       "      <th>max</th>\n",
       "      <td>1.000000</td>\n",
       "      <td>17.000000</td>\n",
       "      <td>5.000000</td>\n",
       "      <td>9.000000</td>\n",
       "      <td>3.000000</td>\n",
       "      <td>13.000000</td>\n",
       "      <td>4.000000</td>\n",
       "      <td>3.000000</td>\n",
       "      <td>1.000000</td>\n",
       "      <td>5.000000</td>\n",
       "      <td>...</td>\n",
       "      <td>5.000000</td>\n",
       "      <td>9.000000</td>\n",
       "      <td>8.000000</td>\n",
       "      <td>12.000000</td>\n",
       "      <td>20.000000</td>\n",
       "      <td>4.000000</td>\n",
       "      <td>8.000000</td>\n",
       "      <td>7.000000</td>\n",
       "      <td>9.000000</td>\n",
       "      <td>8.000000</td>\n",
       "    </tr>\n",
       "  </tbody>\n",
       "</table>\n",
       "<p>8 rows × 233 columns</p>\n",
       "</div>"
      ],
      "text/plain": [
       "           common  VERB,impf,intr masc,sing,past,indc  ADJF,Qual plur,ablt  \\\n",
       "count  763.000000                          763.000000           763.000000   \n",
       "mean     0.395806                            0.923984             0.583224   \n",
       "std      0.489344                            1.648825             0.913205   \n",
       "min      0.000000                            0.000000             0.000000   \n",
       "25%      0.000000                            0.000000             0.000000   \n",
       "50%      0.000000                            0.000000             0.000000   \n",
       "75%      1.000000                            1.000000             1.000000   \n",
       "max      1.000000                           17.000000             5.000000   \n",
       "\n",
       "        ADVB,Prdx  GRND,impf,intr pres        PRCL  ADJF,Qual plur,datv  \\\n",
       "count  763.000000           763.000000  763.000000           763.000000   \n",
       "mean     1.241153             0.195282    3.152031             0.363041   \n",
       "std      1.290805             0.472197    2.425359             0.674272   \n",
       "min      0.000000             0.000000    0.000000             0.000000   \n",
       "25%      0.000000             0.000000    1.000000             0.000000   \n",
       "50%      1.000000             0.000000    3.000000             0.000000   \n",
       "75%      2.000000             0.000000    4.000000             1.000000   \n",
       "max      9.000000             3.000000   13.000000             4.000000   \n",
       "\n",
       "       NOUN,inan,GNdr,Pltm plur,nomn  PRTF,perf,tran,past,pssv masc,sing,loct  \\\n",
       "count                     763.000000                               763.000000   \n",
       "mean                        0.145478                                 0.028834   \n",
       "std                         0.414393                                 0.167448   \n",
       "min                         0.000000                                 0.000000   \n",
       "25%                         0.000000                                 0.000000   \n",
       "50%                         0.000000                                 0.000000   \n",
       "75%                         0.000000                                 0.000000   \n",
       "max                         3.000000                                 1.000000   \n",
       "\n",
       "       NOUN,anim,masc,Name sing,loct  ...  PRTF,perf,tran,past,pssv plur,gent  \\\n",
       "count                     763.000000  ...                          763.000000   \n",
       "mean                        0.204456  ...                            0.094364   \n",
       "std                         0.671998  ...                            0.388830   \n",
       "min                         0.000000  ...                            0.000000   \n",
       "25%                         0.000000  ...                            0.000000   \n",
       "50%                         0.000000  ...                            0.000000   \n",
       "75%                         0.000000  ...                            0.000000   \n",
       "max                         5.000000  ...                            5.000000   \n",
       "\n",
       "       NOUN,inan,neut plur,gent  ADJF,Qual femn,sing,gent  \\\n",
       "count                763.000000                763.000000   \n",
       "mean                   1.349934                  1.545216   \n",
       "std                    1.468643                  1.572062   \n",
       "min                    0.000000                  0.000000   \n",
       "25%                    0.000000                  0.000000   \n",
       "50%                    1.000000                  1.000000   \n",
       "75%                    2.000000                  2.000000   \n",
       "max                    9.000000                  8.000000   \n",
       "\n",
       "       VERB,perf,intr femn,sing,past,indc  NOUN,anim,masc sing,nomn  \\\n",
       "count                          763.000000                763.000000   \n",
       "mean                             1.842726                  3.302752   \n",
       "std                              2.061752                  2.902860   \n",
       "min                              0.000000                  0.000000   \n",
       "25%                              0.000000                  1.000000   \n",
       "50%                              1.000000                  3.000000   \n",
       "75%                              3.000000                  5.000000   \n",
       "max                             12.000000                 20.000000   \n",
       "\n",
       "       NOUN,anim,GNdr,Pltm plur,datv   NUMR nomn  \\\n",
       "count                     763.000000  763.000000   \n",
       "mean                        0.155963    0.432503   \n",
       "std                         0.512879    0.850563   \n",
       "min                         0.000000    0.000000   \n",
       "25%                         0.000000    0.000000   \n",
       "50%                         0.000000    0.000000   \n",
       "75%                         0.000000    1.000000   \n",
       "max                         4.000000    8.000000   \n",
       "\n",
       "       VERB,impf,tran plur,past,indc  ADJF masc,sing,gent  \\\n",
       "count                     763.000000           763.000000   \n",
       "mean                        0.714286             0.934469   \n",
       "std                         1.049756             1.301485   \n",
       "min                         0.000000             0.000000   \n",
       "25%                         0.000000             0.000000   \n",
       "50%                         0.000000             0.000000   \n",
       "75%                         1.000000             1.000000   \n",
       "max                         7.000000             9.000000   \n",
       "\n",
       "       NOUN,anim,masc,Name sing,datv  \n",
       "count                     763.000000  \n",
       "mean                        0.705111  \n",
       "std                         1.285213  \n",
       "min                         0.000000  \n",
       "25%                         0.000000  \n",
       "50%                         0.000000  \n",
       "75%                         1.000000  \n",
       "max                         8.000000  \n",
       "\n",
       "[8 rows x 233 columns]"
      ]
     },
     "execution_count": 49,
     "metadata": {},
     "output_type": "execute_result"
    }
   ],
   "source": [
    "dff.describe()"
   ]
  },
  {
   "cell_type": "code",
   "execution_count": 50,
   "metadata": {},
   "outputs": [],
   "source": [
    "dff.to_csv('./data/train.csv', index=False, sep=';')"
   ]
  },
  {
   "cell_type": "code",
   "execution_count": null,
   "metadata": {},
   "outputs": [],
   "source": []
  }
 ],
 "metadata": {
  "kernelspec": {
   "display_name": "Python 3",
   "language": "python",
   "name": "python3"
  },
  "language_info": {
   "codemirror_mode": {
    "name": "ipython",
    "version": 3
   },
   "file_extension": ".py",
   "mimetype": "text/x-python",
   "name": "python",
   "nbconvert_exporter": "python",
   "pygments_lexer": "ipython3",
   "version": "3.6.3"
  }
 },
 "nbformat": 4,
 "nbformat_minor": 4
}
