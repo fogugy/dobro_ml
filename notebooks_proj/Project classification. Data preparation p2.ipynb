{
 "cells": [
  {
   "cell_type": "code",
   "execution_count": 2,
   "metadata": {
    "scrolled": true
   },
   "outputs": [
    {
     "name": "stderr",
     "output_type": "stream",
     "text": [
      "/usr/local/lib/python3.6/site-packages/pandas/compat/__init__.py:120: UserWarning: Could not import the lzma module. Your installed Python is incomplete. Attempting to use lzma compression will result in a RuntimeError.\n",
      "  warnings.warn(msg)\n"
     ]
    }
   ],
   "source": [
    "import re\n",
    "import string\n",
    "import pandas as pd\n",
    "import numpy as np\n",
    "import matplotlib.pyplot as plt\n",
    "import nltk\n",
    "from pymorphy2 import MorphAnalyzer\n",
    "from nltk.corpus import stopwords\n",
    "from collections import Counter"
   ]
  },
  {
   "cell_type": "code",
   "execution_count": 3,
   "metadata": {},
   "outputs": [],
   "source": [
    "df = pd.read_csv('./data/data_current.csv', sep=';')\n",
    "df2 = pd.read_csv('./data/data_done.csv', sep=';')"
   ]
  },
  {
   "cell_type": "code",
   "execution_count": 4,
   "metadata": {},
   "outputs": [],
   "source": [
    "df2 = df2[df2['common'] >= 0]"
   ]
  },
  {
   "cell_type": "code",
   "execution_count": 5,
   "metadata": {},
   "outputs": [],
   "source": [
    "df = df.append(df2, ignore_index=True) "
   ]
  },
  {
   "cell_type": "code",
   "execution_count": 6,
   "metadata": {},
   "outputs": [
    {
     "data": {
      "text/plain": [
       "title      object\n",
       "short      object\n",
       "text       object\n",
       "common    float64\n",
       "dtype: object"
      ]
     },
     "execution_count": 6,
     "metadata": {},
     "output_type": "execute_result"
    }
   ],
   "source": [
    "df.dtypes"
   ]
  },
  {
   "cell_type": "code",
   "execution_count": 7,
   "metadata": {},
   "outputs": [
    {
     "data": {
      "text/html": [
       "<div>\n",
       "<style scoped>\n",
       "    .dataframe tbody tr th:only-of-type {\n",
       "        vertical-align: middle;\n",
       "    }\n",
       "\n",
       "    .dataframe tbody tr th {\n",
       "        vertical-align: top;\n",
       "    }\n",
       "\n",
       "    .dataframe thead th {\n",
       "        text-align: right;\n",
       "    }\n",
       "</style>\n",
       "<table border=\"1\" class=\"dataframe\">\n",
       "  <thead>\n",
       "    <tr style=\"text-align: right;\">\n",
       "      <th></th>\n",
       "      <th>title</th>\n",
       "      <th>short</th>\n",
       "      <th>text</th>\n",
       "      <th>common</th>\n",
       "    </tr>\n",
       "  </thead>\n",
       "  <tbody>\n",
       "    <tr>\n",
       "      <th>0</th>\n",
       "      <td>Поможем 2-летнему Амину дышать!</td>\n",
       "      <td>Вы можете помочь\\nкупить аппарат, который помо...</td>\n",
       "      <td>У двухлетнего Амина неизлечимая болезнь, котор...</td>\n",
       "      <td>0.0</td>\n",
       "    </tr>\n",
       "    <tr>\n",
       "      <th>1</th>\n",
       "      <td>Тимур, ты будешь врачом!</td>\n",
       "      <td>Вы можете помочь\\nоплатить реабилитацию для Ти...</td>\n",
       "      <td>Тимур любил общаться с друзьями и мечтать о бу...</td>\n",
       "      <td>0.0</td>\n",
       "    </tr>\n",
       "    <tr>\n",
       "      <th>2</th>\n",
       "      <td>Догоним Амину!</td>\n",
       "      <td>Вы можете помочь\\nкупить ортезы, чтобы девочка...</td>\n",
       "      <td>У Амины ДЦП, и она не может полноценно двигать...</td>\n",
       "      <td>0.0</td>\n",
       "    </tr>\n",
       "    <tr>\n",
       "      <th>3</th>\n",
       "      <td>Накормим Колю</td>\n",
       "      <td>Вы можете помочь\\nкупить лечебное питание для ...</td>\n",
       "      <td>Коля родился настоящим богатырем – весил 4324 ...</td>\n",
       "      <td>0.0</td>\n",
       "    </tr>\n",
       "    <tr>\n",
       "      <th>4</th>\n",
       "      <td>Рецепт счастья для Кати</td>\n",
       "      <td>Вы можете помочь\\nспасти Катю от редкого генет...</td>\n",
       "      <td>У Кати редкое генетическое заболевание, при ко...</td>\n",
       "      <td>0.0</td>\n",
       "    </tr>\n",
       "  </tbody>\n",
       "</table>\n",
       "</div>"
      ],
      "text/plain": [
       "                             title  \\\n",
       "0  Поможем 2-летнему Амину дышать!   \n",
       "1         Тимур, ты будешь врачом!   \n",
       "2                   Догоним Амину!   \n",
       "3                    Накормим Колю   \n",
       "4          Рецепт счастья для Кати   \n",
       "\n",
       "                                               short  \\\n",
       "0  Вы можете помочь\\nкупить аппарат, который помо...   \n",
       "1  Вы можете помочь\\nоплатить реабилитацию для Ти...   \n",
       "2  Вы можете помочь\\nкупить ортезы, чтобы девочка...   \n",
       "3  Вы можете помочь\\nкупить лечебное питание для ...   \n",
       "4  Вы можете помочь\\nспасти Катю от редкого генет...   \n",
       "\n",
       "                                                text  common  \n",
       "0  У двухлетнего Амина неизлечимая болезнь, котор...     0.0  \n",
       "1  Тимур любил общаться с друзьями и мечтать о бу...     0.0  \n",
       "2  У Амины ДЦП, и она не может полноценно двигать...     0.0  \n",
       "3  Коля родился настоящим богатырем – весил 4324 ...     0.0  \n",
       "4  У Кати редкое генетическое заболевание, при ко...     0.0  "
      ]
     },
     "execution_count": 7,
     "metadata": {},
     "output_type": "execute_result"
    }
   ],
   "source": [
    "df.head(n=5)"
   ]
  },
  {
   "cell_type": "code",
   "execution_count": 8,
   "metadata": {},
   "outputs": [],
   "source": [
    "df.to_csv('./data/projects_merged.csv', sep=';', index=False)"
   ]
  },
  {
   "cell_type": "code",
   "execution_count": 9,
   "metadata": {
    "scrolled": false
   },
   "outputs": [
    {
     "data": {
      "text/plain": [
       "(1574, 4)"
      ]
     },
     "execution_count": 9,
     "metadata": {},
     "output_type": "execute_result"
    }
   ],
   "source": [
    "df.shape"
   ]
  },
  {
   "cell_type": "code",
   "execution_count": 10,
   "metadata": {
    "scrolled": true
   },
   "outputs": [
    {
     "name": "stdout",
     "output_type": "stream",
     "text": [
      "575 / 1574\n"
     ]
    }
   ],
   "source": [
    "print(int(df['common'].sum()), '/', df['common'].count())"
   ]
  },
  {
   "cell_type": "code",
   "execution_count": 11,
   "metadata": {},
   "outputs": [
    {
     "data": {
      "image/png": "[encoded data removed]",
      "text/plain": [
       "<Figure size 432x288 with 1 Axes>"
      ]
     },
     "metadata": {
      "needs_background": "light"
     },
     "output_type": "display_data"
    }
   ],
   "source": [
    "plt.hist(df.common, bins=2, range=[0,1])\n",
    "plt.xticks([0,1]);"
   ]
  },
  {
   "cell_type": "code",
   "execution_count": 12,
   "metadata": {},
   "outputs": [],
   "source": [
    "re_punct = re.compile(f'[{string.punctuation}\\– ]+')\n",
    "russian_stopwords = stopwords.words(\"russian\")\n",
    "morpher = MorphAnalyzer()\n",
    "\n",
    "def punct(text):\n",
    "    return re.sub(re_punct, ' ', text)\n",
    "\n",
    "def clear(arr):\n",
    "    return [w for w in arr if not w in russian_stopwords]\n",
    "\n",
    "def lemmatize(arr):\n",
    "    pass\n",
    "\n",
    "def prepare_text(text):\n",
    "    text = punct(text)\n",
    "    t_arr = clear(text.split())\n",
    "    return ' '.join(t_arr)\n",
    "\n",
    "def pos(text):\n",
    "    tags = [str(morpher.parse(w)[0].tag) for w in text.split(' ')]\n",
    "    return Counter(tags)"
   ]
  },
  {
   "cell_type": "code",
   "execution_count": 13,
   "metadata": {},
   "outputs": [],
   "source": [
    "df['prepared'] = df.apply(lambda row: prepare_text(f\"{row['title']} {row['short']} {row['text']}\"), axis=1)"
   ]
  },
  {
   "cell_type": "code",
   "execution_count": 14,
   "metadata": {},
   "outputs": [],
   "source": [
    "bag_of_words = set()\n",
    "bow_tags = set()\n",
    "\n",
    "for txt in df['prepared'][:5]:\n",
    "    for w in txt.split(' '):\n",
    "        bag_of_words.add(w)\n",
    "        bow_tags = bow_tags | set([str(morpher.parse(w)[0].tag)])"
   ]
  },
  {
   "cell_type": "code",
   "execution_count": 15,
   "metadata": {},
   "outputs": [],
   "source": [
    "tags_cols = list(bow_tags)"
   ]
  },
  {
   "cell_type": "code",
   "execution_count": 16,
   "metadata": {},
   "outputs": [],
   "source": [
    "dff = df[['common']].copy()\n",
    "tags_shape = [df.shape[0], len(tags_cols)]\n",
    "dff[tags_cols] = np.zeros(tags_shape)"
   ]
  },
  {
   "cell_type": "code",
   "execution_count": 17,
   "metadata": {},
   "outputs": [],
   "source": [
    "for index, row in df.iterrows():\n",
    "    pos_dict = pos(row['prepared'])\n",
    "    for key, value in pos_dict.items():\n",
    "        if key in bow_tags:\n",
    "            dff.iloc[index][key] = value"
   ]
  },
  {
   "cell_type": "code",
   "execution_count": 18,
   "metadata": {},
   "outputs": [
    {
     "data": {
      "text/html": [
       "<div>\n",
       "<style scoped>\n",
       "    .dataframe tbody tr th:only-of-type {\n",
       "        vertical-align: middle;\n",
       "    }\n",
       "\n",
       "    .dataframe tbody tr th {\n",
       "        vertical-align: top;\n",
       "    }\n",
       "\n",
       "    .dataframe thead th {\n",
       "        text-align: right;\n",
       "    }\n",
       "</style>\n",
       "<table border=\"1\" class=\"dataframe\">\n",
       "  <thead>\n",
       "    <tr style=\"text-align: right;\">\n",
       "      <th></th>\n",
       "      <th>common</th>\n",
       "      <th>INFN,impf,tran</th>\n",
       "      <th>VERB,impf,tran neut,sing,past,indc</th>\n",
       "      <th>ADJF,Qual femn,sing,accs</th>\n",
       "      <th>NOUN,inan,masc plur,nomn</th>\n",
       "      <th>NOUN,inan,femn,Sgtm,Fixd,Abbr,Geox sing,gent</th>\n",
       "      <th>NOUN,inan,femn plur,gent</th>\n",
       "      <th>ADJF,Qual neut,sing,nomn</th>\n",
       "      <th>NOUN,anim,masc,Name sing,accs</th>\n",
       "      <th>ADJF masc,sing,datv</th>\n",
       "      <th>...</th>\n",
       "      <th>PREP</th>\n",
       "      <th>ADJF,Apro neut,sing,gent</th>\n",
       "      <th>PRTF,impf,intr,pres,actv femn,sing,accs</th>\n",
       "      <th>NOUN,inan,neut,Fixd,Abbr sing,nomn</th>\n",
       "      <th>UNKN</th>\n",
       "      <th>NPRO,1per plur,nomn</th>\n",
       "      <th>ADJF femn,sing,accs</th>\n",
       "      <th>NOUN,inan,neut plur,loct</th>\n",
       "      <th>VERB,perf,intr plur,past,indc</th>\n",
       "      <th>NOUN,anim,masc plur,ablt</th>\n",
       "    </tr>\n",
       "  </thead>\n",
       "  <tbody>\n",
       "    <tr>\n",
       "      <th>count</th>\n",
       "      <td>1574.000000</td>\n",
       "      <td>1574.000000</td>\n",
       "      <td>1574.000000</td>\n",
       "      <td>1574.000000</td>\n",
       "      <td>1574.00000</td>\n",
       "      <td>1574.000000</td>\n",
       "      <td>1574.000000</td>\n",
       "      <td>1574.000000</td>\n",
       "      <td>1574.000000</td>\n",
       "      <td>1574.000000</td>\n",
       "      <td>...</td>\n",
       "      <td>1574.000000</td>\n",
       "      <td>1574.000000</td>\n",
       "      <td>1574.000000</td>\n",
       "      <td>1574.000000</td>\n",
       "      <td>1574.000000</td>\n",
       "      <td>1574.000000</td>\n",
       "      <td>1574.000000</td>\n",
       "      <td>1574.000000</td>\n",
       "      <td>1574.000000</td>\n",
       "      <td>1574.000000</td>\n",
       "    </tr>\n",
       "    <tr>\n",
       "      <th>mean</th>\n",
       "      <td>0.365311</td>\n",
       "      <td>3.706480</td>\n",
       "      <td>0.060356</td>\n",
       "      <td>0.879288</td>\n",
       "      <td>2.04892</td>\n",
       "      <td>0.005083</td>\n",
       "      <td>2.404701</td>\n",
       "      <td>1.062262</td>\n",
       "      <td>0.128335</td>\n",
       "      <td>0.257942</td>\n",
       "      <td>...</td>\n",
       "      <td>4.560356</td>\n",
       "      <td>0.265565</td>\n",
       "      <td>0.008259</td>\n",
       "      <td>0.016518</td>\n",
       "      <td>7.123888</td>\n",
       "      <td>0.415502</td>\n",
       "      <td>0.714740</td>\n",
       "      <td>0.222999</td>\n",
       "      <td>1.111182</td>\n",
       "      <td>0.735705</td>\n",
       "    </tr>\n",
       "    <tr>\n",
       "      <th>std</th>\n",
       "      <td>0.481670</td>\n",
       "      <td>3.118796</td>\n",
       "      <td>0.253728</td>\n",
       "      <td>1.125632</td>\n",
       "      <td>1.96460</td>\n",
       "      <td>0.071133</td>\n",
       "      <td>2.089420</td>\n",
       "      <td>1.234155</td>\n",
       "      <td>0.558171</td>\n",
       "      <td>0.585519</td>\n",
       "      <td>...</td>\n",
       "      <td>2.762450</td>\n",
       "      <td>0.550671</td>\n",
       "      <td>0.097302</td>\n",
       "      <td>0.210304</td>\n",
       "      <td>3.996251</td>\n",
       "      <td>0.732612</td>\n",
       "      <td>1.086506</td>\n",
       "      <td>0.556261</td>\n",
       "      <td>1.321624</td>\n",
       "      <td>1.281204</td>\n",
       "    </tr>\n",
       "    <tr>\n",
       "      <th>min</th>\n",
       "      <td>0.000000</td>\n",
       "      <td>0.000000</td>\n",
       "      <td>0.000000</td>\n",
       "      <td>0.000000</td>\n",
       "      <td>0.00000</td>\n",
       "      <td>0.000000</td>\n",
       "      <td>0.000000</td>\n",
       "      <td>0.000000</td>\n",
       "      <td>0.000000</td>\n",
       "      <td>0.000000</td>\n",
       "      <td>...</td>\n",
       "      <td>0.000000</td>\n",
       "      <td>0.000000</td>\n",
       "      <td>0.000000</td>\n",
       "      <td>0.000000</td>\n",
       "      <td>0.000000</td>\n",
       "      <td>0.000000</td>\n",
       "      <td>0.000000</td>\n",
       "      <td>0.000000</td>\n",
       "      <td>0.000000</td>\n",
       "      <td>0.000000</td>\n",
       "    </tr>\n",
       "    <tr>\n",
       "      <th>25%</th>\n",
       "      <td>0.000000</td>\n",
       "      <td>1.000000</td>\n",
       "      <td>0.000000</td>\n",
       "      <td>0.000000</td>\n",
       "      <td>1.00000</td>\n",
       "      <td>0.000000</td>\n",
       "      <td>1.000000</td>\n",
       "      <td>0.000000</td>\n",
       "      <td>0.000000</td>\n",
       "      <td>0.000000</td>\n",
       "      <td>...</td>\n",
       "      <td>3.000000</td>\n",
       "      <td>0.000000</td>\n",
       "      <td>0.000000</td>\n",
       "      <td>0.000000</td>\n",
       "      <td>4.000000</td>\n",
       "      <td>0.000000</td>\n",
       "      <td>0.000000</td>\n",
       "      <td>0.000000</td>\n",
       "      <td>0.000000</td>\n",
       "      <td>0.000000</td>\n",
       "    </tr>\n",
       "    <tr>\n",
       "      <th>50%</th>\n",
       "      <td>0.000000</td>\n",
       "      <td>3.000000</td>\n",
       "      <td>0.000000</td>\n",
       "      <td>1.000000</td>\n",
       "      <td>2.00000</td>\n",
       "      <td>0.000000</td>\n",
       "      <td>2.000000</td>\n",
       "      <td>1.000000</td>\n",
       "      <td>0.000000</td>\n",
       "      <td>0.000000</td>\n",
       "      <td>...</td>\n",
       "      <td>4.000000</td>\n",
       "      <td>0.000000</td>\n",
       "      <td>0.000000</td>\n",
       "      <td>0.000000</td>\n",
       "      <td>7.000000</td>\n",
       "      <td>0.000000</td>\n",
       "      <td>0.000000</td>\n",
       "      <td>0.000000</td>\n",
       "      <td>1.000000</td>\n",
       "      <td>0.000000</td>\n",
       "    </tr>\n",
       "    <tr>\n",
       "      <th>75%</th>\n",
       "      <td>1.000000</td>\n",
       "      <td>5.000000</td>\n",
       "      <td>0.000000</td>\n",
       "      <td>1.000000</td>\n",
       "      <td>3.00000</td>\n",
       "      <td>0.000000</td>\n",
       "      <td>3.000000</td>\n",
       "      <td>2.000000</td>\n",
       "      <td>0.000000</td>\n",
       "      <td>0.000000</td>\n",
       "      <td>...</td>\n",
       "      <td>6.000000</td>\n",
       "      <td>0.000000</td>\n",
       "      <td>0.000000</td>\n",
       "      <td>0.000000</td>\n",
       "      <td>9.000000</td>\n",
       "      <td>1.000000</td>\n",
       "      <td>1.000000</td>\n",
       "      <td>0.000000</td>\n",
       "      <td>2.000000</td>\n",
       "      <td>1.000000</td>\n",
       "    </tr>\n",
       "    <tr>\n",
       "      <th>max</th>\n",
       "      <td>1.000000</td>\n",
       "      <td>23.000000</td>\n",
       "      <td>2.000000</td>\n",
       "      <td>8.000000</td>\n",
       "      <td>12.00000</td>\n",
       "      <td>1.000000</td>\n",
       "      <td>14.000000</td>\n",
       "      <td>7.000000</td>\n",
       "      <td>6.000000</td>\n",
       "      <td>5.000000</td>\n",
       "      <td>...</td>\n",
       "      <td>23.000000</td>\n",
       "      <td>5.000000</td>\n",
       "      <td>2.000000</td>\n",
       "      <td>5.000000</td>\n",
       "      <td>55.000000</td>\n",
       "      <td>6.000000</td>\n",
       "      <td>8.000000</td>\n",
       "      <td>5.000000</td>\n",
       "      <td>9.000000</td>\n",
       "      <td>10.000000</td>\n",
       "    </tr>\n",
       "  </tbody>\n",
       "</table>\n",
       "<p>8 rows × 234 columns</p>\n",
       "</div>"
      ],
      "text/plain": [
       "            common  INFN,impf,tran  VERB,impf,tran neut,sing,past,indc  \\\n",
       "count  1574.000000     1574.000000                         1574.000000   \n",
       "mean      0.365311        3.706480                            0.060356   \n",
       "std       0.481670        3.118796                            0.253728   \n",
       "min       0.000000        0.000000                            0.000000   \n",
       "25%       0.000000        1.000000                            0.000000   \n",
       "50%       0.000000        3.000000                            0.000000   \n",
       "75%       1.000000        5.000000                            0.000000   \n",
       "max       1.000000       23.000000                            2.000000   \n",
       "\n",
       "       ADJF,Qual femn,sing,accs  NOUN,inan,masc plur,nomn  \\\n",
       "count               1574.000000                1574.00000   \n",
       "mean                   0.879288                   2.04892   \n",
       "std                    1.125632                   1.96460   \n",
       "min                    0.000000                   0.00000   \n",
       "25%                    0.000000                   1.00000   \n",
       "50%                    1.000000                   2.00000   \n",
       "75%                    1.000000                   3.00000   \n",
       "max                    8.000000                  12.00000   \n",
       "\n",
       "       NOUN,inan,femn,Sgtm,Fixd,Abbr,Geox sing,gent  NOUN,inan,femn plur,gent  \\\n",
       "count                                   1574.000000               1574.000000   \n",
       "mean                                       0.005083                  2.404701   \n",
       "std                                        0.071133                  2.089420   \n",
       "min                                        0.000000                  0.000000   \n",
       "25%                                        0.000000                  1.000000   \n",
       "50%                                        0.000000                  2.000000   \n",
       "75%                                        0.000000                  3.000000   \n",
       "max                                        1.000000                 14.000000   \n",
       "\n",
       "       ADJF,Qual neut,sing,nomn  NOUN,anim,masc,Name sing,accs  \\\n",
       "count               1574.000000                    1574.000000   \n",
       "mean                   1.062262                       0.128335   \n",
       "std                    1.234155                       0.558171   \n",
       "min                    0.000000                       0.000000   \n",
       "25%                    0.000000                       0.000000   \n",
       "50%                    1.000000                       0.000000   \n",
       "75%                    2.000000                       0.000000   \n",
       "max                    7.000000                       6.000000   \n",
       "\n",
       "       ADJF masc,sing,datv  ...         PREP  ADJF,Apro neut,sing,gent  \\\n",
       "count          1574.000000  ...  1574.000000               1574.000000   \n",
       "mean              0.257942  ...     4.560356                  0.265565   \n",
       "std               0.585519  ...     2.762450                  0.550671   \n",
       "min               0.000000  ...     0.000000                  0.000000   \n",
       "25%               0.000000  ...     3.000000                  0.000000   \n",
       "50%               0.000000  ...     4.000000                  0.000000   \n",
       "75%               0.000000  ...     6.000000                  0.000000   \n",
       "max               5.000000  ...    23.000000                  5.000000   \n",
       "\n",
       "       PRTF,impf,intr,pres,actv femn,sing,accs  \\\n",
       "count                              1574.000000   \n",
       "mean                                  0.008259   \n",
       "std                                   0.097302   \n",
       "min                                   0.000000   \n",
       "25%                                   0.000000   \n",
       "50%                                   0.000000   \n",
       "75%                                   0.000000   \n",
       "max                                   2.000000   \n",
       "\n",
       "       NOUN,inan,neut,Fixd,Abbr sing,nomn         UNKN  NPRO,1per plur,nomn  \\\n",
       "count                         1574.000000  1574.000000          1574.000000   \n",
       "mean                             0.016518     7.123888             0.415502   \n",
       "std                              0.210304     3.996251             0.732612   \n",
       "min                              0.000000     0.000000             0.000000   \n",
       "25%                              0.000000     4.000000             0.000000   \n",
       "50%                              0.000000     7.000000             0.000000   \n",
       "75%                              0.000000     9.000000             1.000000   \n",
       "max                              5.000000    55.000000             6.000000   \n",
       "\n",
       "       ADJF femn,sing,accs  NOUN,inan,neut plur,loct  \\\n",
       "count          1574.000000               1574.000000   \n",
       "mean              0.714740                  0.222999   \n",
       "std               1.086506                  0.556261   \n",
       "min               0.000000                  0.000000   \n",
       "25%               0.000000                  0.000000   \n",
       "50%               0.000000                  0.000000   \n",
       "75%               1.000000                  0.000000   \n",
       "max               8.000000                  5.000000   \n",
       "\n",
       "       VERB,perf,intr plur,past,indc  NOUN,anim,masc plur,ablt  \n",
       "count                    1574.000000               1574.000000  \n",
       "mean                        1.111182                  0.735705  \n",
       "std                         1.321624                  1.281204  \n",
       "min                         0.000000                  0.000000  \n",
       "25%                         0.000000                  0.000000  \n",
       "50%                         1.000000                  0.000000  \n",
       "75%                         2.000000                  1.000000  \n",
       "max                         9.000000                 10.000000  \n",
       "\n",
       "[8 rows x 234 columns]"
      ]
     },
     "execution_count": 18,
     "metadata": {},
     "output_type": "execute_result"
    }
   ],
   "source": [
    "dff.describe()"
   ]
  },
  {
   "cell_type": "code",
   "execution_count": 19,
   "metadata": {},
   "outputs": [],
   "source": [
    "dff.to_csv('./data/train.csv', index=False, sep=';')"
   ]
  },
  {
   "cell_type": "code",
   "execution_count": 20,
   "metadata": {},
   "outputs": [],
   "source": [
    "from sklearn.feature_extraction.text import HashingVectorizer"
   ]
  },
  {
   "cell_type": "code",
   "execution_count": 21,
   "metadata": {},
   "outputs": [],
   "source": [
    "vectorizer = HashingVectorizer(n_features=2**10)\n",
    "hash_cols = [f'hvec_{x}' for x in range(2**10)]"
   ]
  },
  {
   "cell_type": "code",
   "execution_count": 22,
   "metadata": {},
   "outputs": [],
   "source": [
    "h = np.array(vectorizer.fit_transform(df['prepared']).toarray())"
   ]
  },
  {
   "cell_type": "code",
   "execution_count": 23,
   "metadata": {
    "pycharm": {
     "name": "#%%\n"
    }
   },
   "outputs": [],
   "source": [
    "import pickle"
   ]
  },
  {
   "cell_type": "code",
   "execution_count": 28,
   "metadata": {},
   "outputs": [],
   "source": [
    "with open('./hash_vec.pickle', 'wb') as f:\n",
    "    pickle.dump(vectorizer, f)"
   ]
  },
  {
   "cell_type": "code",
   "execution_count": 29,
   "metadata": {},
   "outputs": [],
   "source": [
    "dff.to_csv('./data/train.csv', index=False, sep=';')"
   ]
  },
  {
   "cell_type": "code",
   "execution_count": 30,
   "metadata": {},
   "outputs": [],
   "source": [
    "import pickle"
   ]
  },
  {
   "cell_type": "code",
   "execution_count": 31,
   "metadata": {},
   "outputs": [],
   "source": [
    "with open('./columns.pickle', 'wb') as f:\n",
    "    pickle.dump(dff.drop(['common'], axis=1).columns.to_list(), f)"
   ]
  },
  {
   "cell_type": "code",
   "execution_count": null,
   "metadata": {},
   "outputs": [],
   "source": []
  }
 ],
 "metadata": {
  "kernelspec": {
   "display_name": "Python 3",
   "language": "python",
   "name": "python3"
  },
  "language_info": {
   "codemirror_mode": {
    "name": "ipython",
    "version": 3
   },
   "file_extension": ".py",
   "mimetype": "text/x-python",
   "name": "python",
   "nbconvert_exporter": "python",
   "pygments_lexer": "ipython3",
   "version": "3.6.3"
  }
 },
 "nbformat": 4,
 "nbformat_minor": 4
}
