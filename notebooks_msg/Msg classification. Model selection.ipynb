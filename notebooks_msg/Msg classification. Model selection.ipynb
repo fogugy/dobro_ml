{
 "cells": [
  {
   "cell_type": "code",
   "execution_count": 10,
   "metadata": {},
   "outputs": [],
   "source": [
    "# !pip install xgboost"
   ]
  },
  {
   "cell_type": "code",
   "execution_count": 11,
   "metadata": {},
   "outputs": [],
   "source": [
    "import numpy as np\n",
    "import pandas as pd\n",
    "from sklearn.metrics import *\n",
    "from sklearn.model_selection import train_test_split\n",
    "from sklearn.pipeline import Pipeline\n",
    "from sklearn.linear_model import LogisticRegression\n",
    "import catboost\n",
    "import xgboost"
   ]
  },
  {
   "cell_type": "code",
   "execution_count": 24,
   "metadata": {},
   "outputs": [],
   "source": [
    "import glob\n",
    "\n",
    "path = './data/tweets_partials/'\n",
    "all_files = glob.glob(path + \"/*.csv\")\n",
    "\n",
    "li = []\n",
    "\n",
    "for filename in all_files[:20]:\n",
    "    df = pd.read_csv(filename, index_col=None, header=0)\n",
    "    li.append(df)\n",
    "\n",
    "df = pd.concat(li, axis=0, ignore_index=True)"
   ]
  },
  {
   "cell_type": "code",
   "execution_count": 25,
   "metadata": {},
   "outputs": [
    {
     "data": {
      "text/plain": [
       "(20000, 1413)"
      ]
     },
     "execution_count": 25,
     "metadata": {},
     "output_type": "execute_result"
    }
   ],
   "source": [
    "df.shape"
   ]
  },
  {
   "cell_type": "code",
   "execution_count": 26,
   "metadata": {},
   "outputs": [
    {
     "data": {
      "text/plain": [
       "(20000, 1413)"
      ]
     },
     "execution_count": 26,
     "metadata": {},
     "output_type": "execute_result"
    }
   ],
   "source": [
    "df.shape"
   ]
  },
  {
   "cell_type": "code",
   "execution_count": 27,
   "metadata": {},
   "outputs": [],
   "source": [
    "x_train, x_test, y_train, y_test = train_test_split(df.drop(['target'], axis=1), df['target'])"
   ]
  },
  {
   "cell_type": "code",
   "execution_count": 28,
   "metadata": {},
   "outputs": [
    {
     "data": {
      "text/plain": [
       "(15000, 1412)"
      ]
     },
     "execution_count": 28,
     "metadata": {},
     "output_type": "execute_result"
    }
   ],
   "source": [
    "x_train.shape"
   ]
  },
  {
   "cell_type": "markdown",
   "metadata": {},
   "source": [
    "**xgboost**"
   ]
  },
  {
   "cell_type": "code",
   "execution_count": 29,
   "metadata": {},
   "outputs": [
    {
     "data": {
      "text/plain": [
       "XGBClassifier(base_score=0.5, booster='gbtree', colsample_bylevel=1,\n",
       "              colsample_bynode=1, colsample_bytree=1, gamma=0, gpu_id=-1,\n",
       "              importance_type='gain', interaction_constraints='',\n",
       "              learning_rate=0.300000012, max_delta_step=0, max_depth=6,\n",
       "              min_child_weight=1, missing=nan, monotone_constraints='()',\n",
       "              n_estimators=100, n_jobs=0, num_parallel_tree=1, random_state=42,\n",
       "              reg_alpha=0, reg_lambda=1, scale_pos_weight=1, subsample=1,\n",
       "              tree_method='exact', validate_parameters=1, verbosity=None)"
      ]
     },
     "execution_count": 29,
     "metadata": {},
     "output_type": "execute_result"
    }
   ],
   "source": [
    "clf = xgboost.XGBClassifier(random_state=42)\n",
    "clf.fit(x_train, y_train)"
   ]
  },
  {
   "cell_type": "code",
   "execution_count": 30,
   "metadata": {},
   "outputs": [
    {
     "name": "stdout",
     "output_type": "stream",
     "text": [
      "              precision    recall  f1-score   support\n",
      "\n",
      "           0       1.00      1.00      1.00      7682\n",
      "           1       1.00      1.00      1.00      7318\n",
      "\n",
      "    accuracy                           1.00     15000\n",
      "   macro avg       1.00      1.00      1.00     15000\n",
      "weighted avg       1.00      1.00      1.00     15000\n",
      "\n"
     ]
    }
   ],
   "source": [
    "pred = clf.predict(x_train)\n",
    "print(classification_report(pred, y_train))"
   ]
  },
  {
   "cell_type": "code",
   "execution_count": 31,
   "metadata": {},
   "outputs": [
    {
     "name": "stdout",
     "output_type": "stream",
     "text": [
      "              precision    recall  f1-score   support\n",
      "\n",
      "           0       0.80      0.74      0.77      2757\n",
      "           1       0.71      0.77      0.74      2243\n",
      "\n",
      "    accuracy                           0.75      5000\n",
      "   macro avg       0.75      0.75      0.75      5000\n",
      "weighted avg       0.76      0.75      0.75      5000\n",
      "\n"
     ]
    }
   ],
   "source": [
    "pred = clf.predict(x_test)\n",
    "print(classification_report(pred, y_test))"
   ]
  },
  {
   "cell_type": "markdown",
   "metadata": {},
   "source": [
    "**catboost**"
   ]
  },
  {
   "cell_type": "code",
   "execution_count": 32,
   "metadata": {},
   "outputs": [
    {
     "name": "stdout",
     "output_type": "stream",
     "text": [
      "Learning rate set to 0.270474\n",
      "0:\tlearn: 0.5548228\ttotal: 128ms\tremaining: 12.7s\n",
      "1:\tlearn: 0.5053599\ttotal: 315ms\tremaining: 15.4s\n",
      "2:\tlearn: 0.4938241\ttotal: 468ms\tremaining: 15.1s\n",
      "3:\tlearn: 0.4770702\ttotal: 619ms\tremaining: 14.9s\n",
      "4:\tlearn: 0.4659870\ttotal: 780ms\tremaining: 14.8s\n",
      "5:\tlearn: 0.4609031\ttotal: 934ms\tremaining: 14.6s\n",
      "6:\tlearn: 0.4565888\ttotal: 1.08s\tremaining: 14.4s\n",
      "7:\tlearn: 0.4522134\ttotal: 1.24s\tremaining: 14.3s\n",
      "8:\tlearn: 0.4485193\ttotal: 1.39s\tremaining: 14s\n",
      "9:\tlearn: 0.4452880\ttotal: 1.55s\tremaining: 13.9s\n",
      "10:\tlearn: 0.4420112\ttotal: 1.71s\tremaining: 13.9s\n",
      "11:\tlearn: 0.4386577\ttotal: 1.89s\tremaining: 13.9s\n",
      "12:\tlearn: 0.4353981\ttotal: 2.05s\tremaining: 13.7s\n",
      "13:\tlearn: 0.4325643\ttotal: 2.2s\tremaining: 13.5s\n",
      "14:\tlearn: 0.4294444\ttotal: 2.36s\tremaining: 13.4s\n",
      "15:\tlearn: 0.4266016\ttotal: 2.51s\tremaining: 13.2s\n",
      "16:\tlearn: 0.4240685\ttotal: 2.65s\tremaining: 13s\n",
      "17:\tlearn: 0.4208205\ttotal: 2.79s\tremaining: 12.7s\n",
      "18:\tlearn: 0.4189336\ttotal: 2.95s\tremaining: 12.6s\n",
      "19:\tlearn: 0.4166930\ttotal: 3.11s\tremaining: 12.5s\n",
      "20:\tlearn: 0.4151486\ttotal: 3.27s\tremaining: 12.3s\n",
      "21:\tlearn: 0.4134150\ttotal: 3.42s\tremaining: 12.1s\n",
      "22:\tlearn: 0.4114979\ttotal: 3.56s\tremaining: 11.9s\n",
      "23:\tlearn: 0.4097825\ttotal: 3.7s\tremaining: 11.7s\n",
      "24:\tlearn: 0.4077342\ttotal: 3.85s\tremaining: 11.6s\n",
      "25:\tlearn: 0.4065839\ttotal: 4.01s\tremaining: 11.4s\n",
      "26:\tlearn: 0.4048662\ttotal: 4.16s\tremaining: 11.2s\n",
      "27:\tlearn: 0.4028537\ttotal: 4.31s\tremaining: 11.1s\n",
      "28:\tlearn: 0.4008813\ttotal: 4.46s\tremaining: 10.9s\n",
      "29:\tlearn: 0.3989253\ttotal: 4.62s\tremaining: 10.8s\n",
      "30:\tlearn: 0.3966615\ttotal: 4.77s\tremaining: 10.6s\n",
      "31:\tlearn: 0.3944032\ttotal: 4.92s\tremaining: 10.5s\n",
      "32:\tlearn: 0.3926260\ttotal: 5.07s\tremaining: 10.3s\n",
      "33:\tlearn: 0.3903001\ttotal: 5.25s\tremaining: 10.2s\n",
      "34:\tlearn: 0.3881724\ttotal: 5.38s\tremaining: 10s\n",
      "35:\tlearn: 0.3852909\ttotal: 5.55s\tremaining: 9.86s\n",
      "36:\tlearn: 0.3829824\ttotal: 5.69s\tremaining: 9.69s\n",
      "37:\tlearn: 0.3808932\ttotal: 5.82s\tremaining: 9.49s\n",
      "38:\tlearn: 0.3784750\ttotal: 5.97s\tremaining: 9.35s\n",
      "39:\tlearn: 0.3762629\ttotal: 6.12s\tremaining: 9.18s\n",
      "40:\tlearn: 0.3739375\ttotal: 6.27s\tremaining: 9.02s\n",
      "41:\tlearn: 0.3713610\ttotal: 6.43s\tremaining: 8.88s\n",
      "42:\tlearn: 0.3690438\ttotal: 6.58s\tremaining: 8.73s\n",
      "43:\tlearn: 0.3666153\ttotal: 6.74s\tremaining: 8.57s\n",
      "44:\tlearn: 0.3641073\ttotal: 6.89s\tremaining: 8.42s\n",
      "45:\tlearn: 0.3615221\ttotal: 7.03s\tremaining: 8.26s\n",
      "46:\tlearn: 0.3591321\ttotal: 7.18s\tremaining: 8.09s\n",
      "47:\tlearn: 0.3564853\ttotal: 7.33s\tremaining: 7.94s\n",
      "48:\tlearn: 0.3539878\ttotal: 7.48s\tremaining: 7.79s\n",
      "49:\tlearn: 0.3518227\ttotal: 7.64s\tremaining: 7.64s\n",
      "50:\tlearn: 0.3495082\ttotal: 7.78s\tremaining: 7.48s\n",
      "51:\tlearn: 0.3470279\ttotal: 7.93s\tremaining: 7.32s\n",
      "52:\tlearn: 0.3447179\ttotal: 8.08s\tremaining: 7.16s\n",
      "53:\tlearn: 0.3422213\ttotal: 8.23s\tremaining: 7.01s\n",
      "54:\tlearn: 0.3401289\ttotal: 8.37s\tremaining: 6.85s\n",
      "55:\tlearn: 0.3373966\ttotal: 8.53s\tremaining: 6.7s\n",
      "56:\tlearn: 0.3350762\ttotal: 8.68s\tremaining: 6.54s\n",
      "57:\tlearn: 0.3331307\ttotal: 8.82s\tremaining: 6.39s\n",
      "58:\tlearn: 0.3308654\ttotal: 8.96s\tremaining: 6.23s\n",
      "59:\tlearn: 0.3286830\ttotal: 9.12s\tremaining: 6.08s\n",
      "60:\tlearn: 0.3267740\ttotal: 9.25s\tremaining: 5.91s\n",
      "61:\tlearn: 0.3248078\ttotal: 9.41s\tremaining: 5.77s\n",
      "62:\tlearn: 0.3225842\ttotal: 9.54s\tremaining: 5.6s\n",
      "63:\tlearn: 0.3208045\ttotal: 9.67s\tremaining: 5.44s\n",
      "64:\tlearn: 0.3193412\ttotal: 9.79s\tremaining: 5.27s\n",
      "65:\tlearn: 0.3172177\ttotal: 9.94s\tremaining: 5.12s\n",
      "66:\tlearn: 0.3154448\ttotal: 10.1s\tremaining: 4.97s\n",
      "67:\tlearn: 0.3138065\ttotal: 10.2s\tremaining: 4.81s\n",
      "68:\tlearn: 0.3120948\ttotal: 10.4s\tremaining: 4.65s\n",
      "69:\tlearn: 0.3099496\ttotal: 10.5s\tremaining: 4.5s\n",
      "70:\tlearn: 0.3086163\ttotal: 10.6s\tremaining: 4.34s\n",
      "71:\tlearn: 0.3069153\ttotal: 10.8s\tremaining: 4.19s\n",
      "72:\tlearn: 0.3054593\ttotal: 10.9s\tremaining: 4.03s\n",
      "73:\tlearn: 0.3040303\ttotal: 11s\tremaining: 3.88s\n",
      "74:\tlearn: 0.3020113\ttotal: 11.2s\tremaining: 3.73s\n",
      "75:\tlearn: 0.2999491\ttotal: 11.3s\tremaining: 3.58s\n",
      "76:\tlearn: 0.2979874\ttotal: 11.5s\tremaining: 3.43s\n",
      "77:\tlearn: 0.2960174\ttotal: 11.7s\tremaining: 3.29s\n",
      "78:\tlearn: 0.2946553\ttotal: 11.8s\tremaining: 3.13s\n",
      "79:\tlearn: 0.2932504\ttotal: 11.9s\tremaining: 2.98s\n",
      "80:\tlearn: 0.2919344\ttotal: 12s\tremaining: 2.82s\n",
      "81:\tlearn: 0.2901507\ttotal: 12.2s\tremaining: 2.67s\n",
      "82:\tlearn: 0.2887479\ttotal: 12.3s\tremaining: 2.52s\n",
      "83:\tlearn: 0.2875456\ttotal: 12.4s\tremaining: 2.37s\n",
      "84:\tlearn: 0.2862137\ttotal: 12.6s\tremaining: 2.22s\n",
      "85:\tlearn: 0.2847117\ttotal: 12.7s\tremaining: 2.07s\n",
      "86:\tlearn: 0.2832452\ttotal: 12.9s\tremaining: 1.92s\n",
      "87:\tlearn: 0.2816346\ttotal: 13s\tremaining: 1.77s\n",
      "88:\tlearn: 0.2797008\ttotal: 13.2s\tremaining: 1.63s\n",
      "89:\tlearn: 0.2778755\ttotal: 13.3s\tremaining: 1.48s\n",
      "90:\tlearn: 0.2765150\ttotal: 13.5s\tremaining: 1.33s\n",
      "91:\tlearn: 0.2751580\ttotal: 13.6s\tremaining: 1.18s\n",
      "92:\tlearn: 0.2735449\ttotal: 13.7s\tremaining: 1.03s\n",
      "93:\tlearn: 0.2722002\ttotal: 13.9s\tremaining: 886ms\n",
      "94:\tlearn: 0.2706890\ttotal: 14s\tremaining: 737ms\n",
      "95:\tlearn: 0.2690435\ttotal: 14.2s\tremaining: 590ms\n",
      "96:\tlearn: 0.2677548\ttotal: 14.3s\tremaining: 441ms\n",
      "97:\tlearn: 0.2661288\ttotal: 14.4s\tremaining: 294ms\n",
      "98:\tlearn: 0.2645511\ttotal: 14.5s\tremaining: 147ms\n",
      "99:\tlearn: 0.2633076\ttotal: 14.7s\tremaining: 0us\n"
     ]
    },
    {
     "data": {
      "text/plain": [
       "<catboost.core.CatBoostClassifier at 0x7fede379e8d0>"
      ]
     },
     "execution_count": 32,
     "metadata": {},
     "output_type": "execute_result"
    }
   ],
   "source": [
    "clf2 = catboost.CatBoostClassifier(n_estimators=100, random_state=42)\n",
    "clf2.fit(x_train, y_train)"
   ]
  },
  {
   "cell_type": "code",
   "execution_count": 33,
   "metadata": {},
   "outputs": [
    {
     "name": "stdout",
     "output_type": "stream",
     "text": [
      "              precision    recall  f1-score   support\n",
      "\n",
      "           0       0.96      0.90      0.93      8138\n",
      "           1       0.89      0.95      0.92      6862\n",
      "\n",
      "    accuracy                           0.92     15000\n",
      "   macro avg       0.92      0.93      0.92     15000\n",
      "weighted avg       0.93      0.92      0.92     15000\n",
      "\n"
     ]
    }
   ],
   "source": [
    "pred = clf2.predict(x_train)\n",
    "print(classification_report(pred, y_train))"
   ]
  },
  {
   "cell_type": "code",
   "execution_count": 34,
   "metadata": {},
   "outputs": [
    {
     "name": "stdout",
     "output_type": "stream",
     "text": [
      "              precision    recall  f1-score   support\n",
      "\n",
      "           0       0.80      0.74      0.77      2762\n",
      "           1       0.71      0.76      0.73      2238\n",
      "\n",
      "    accuracy                           0.75      5000\n",
      "   macro avg       0.75      0.75      0.75      5000\n",
      "weighted avg       0.76      0.75      0.75      5000\n",
      "\n"
     ]
    }
   ],
   "source": [
    "pred = clf2.predict(x_test)\n",
    "print(classification_report(pred, y_test))"
   ]
  },
  {
   "cell_type": "markdown",
   "metadata": {},
   "source": [
    "**DNN**"
   ]
  },
  {
   "cell_type": "code",
   "execution_count": 15,
   "metadata": {},
   "outputs": [],
   "source": [
    "# !pip install keras\n",
    "# !pip install tensorflow"
   ]
  },
  {
   "cell_type": "code",
   "execution_count": 33,
   "metadata": {},
   "outputs": [],
   "source": [
    "from keras import Sequential\n",
    "from keras.layers import Dense, Dropout\n",
    "from sklearn.preprocessing import Normalizer"
   ]
  },
  {
   "cell_type": "code",
   "execution_count": 34,
   "metadata": {},
   "outputs": [],
   "source": [
    "normalizer = Normalizer().fit(x_train)"
   ]
  },
  {
   "cell_type": "code",
   "execution_count": 44,
   "metadata": {},
   "outputs": [],
   "source": [
    "import pickle\n",
    "\n",
    "with open('./msg_normalizer.pickle', 'wb') as f:\n",
    "    pickle.dump(normalizer, f)"
   ]
  },
  {
   "cell_type": "code",
   "execution_count": 35,
   "metadata": {},
   "outputs": [],
   "source": [
    "classifier = Sequential()\n",
    "classifier.add(Dense(100, activation='relu', kernel_initializer='random_normal'))\n",
    "classifier.add(Dense(100, activation='relu', kernel_initializer='random_normal'))\n",
    "classifier.add(Dropout(0.5))\n",
    "classifier.add(Dense(1, activation='sigmoid', kernel_initializer='random_normal'))"
   ]
  },
  {
   "cell_type": "code",
   "execution_count": 36,
   "metadata": {},
   "outputs": [],
   "source": [
    "classifier.compile(optimizer ='adam',loss='binary_crossentropy', metrics =['accuracy'])"
   ]
  },
  {
   "cell_type": "code",
   "execution_count": 37,
   "metadata": {},
   "outputs": [
    {
     "name": "stdout",
     "output_type": "stream",
     "text": [
      "Epoch 1/7\n",
      "375/375 [==============================] - 1s 3ms/step - loss: 0.5307 - accuracy: 0.7186\n",
      "Epoch 2/7\n",
      "375/375 [==============================] - 1s 3ms/step - loss: 0.4568 - accuracy: 0.7657\n",
      "Epoch 3/7\n",
      "375/375 [==============================] - 1s 3ms/step - loss: 0.4353 - accuracy: 0.7718\n",
      "Epoch 4/7\n",
      "375/375 [==============================] - 1s 3ms/step - loss: 0.4243 - accuracy: 0.7772\n",
      "Epoch 5/7\n",
      "375/375 [==============================] - 1s 3ms/step - loss: 0.4174 - accuracy: 0.7810\n",
      "Epoch 6/7\n",
      "375/375 [==============================] - 1s 3ms/step - loss: 0.4108 - accuracy: 0.7845\n",
      "Epoch 7/7\n",
      "375/375 [==============================] - 1s 3ms/step - loss: 0.4029 - accuracy: 0.7903\n"
     ]
    },
    {
     "data": {
      "text/plain": [
       "<tensorflow.python.keras.callbacks.History at 0x7fb5b00c12b0>"
      ]
     },
     "execution_count": 37,
     "metadata": {},
     "output_type": "execute_result"
    }
   ],
   "source": [
    "classifier.fit(normalizer.transform(x_train), y_train, batch_size=100, epochs=7)"
   ]
  },
  {
   "cell_type": "code",
   "execution_count": 38,
   "metadata": {},
   "outputs": [
    {
     "name": "stdout",
     "output_type": "stream",
     "text": [
      "              precision    recall  f1-score   support\n",
      "\n",
      "           0       0.88      0.77      0.82     21858\n",
      "           1       0.72      0.85      0.78     15642\n",
      "\n",
      "    accuracy                           0.80     37500\n",
      "   macro avg       0.80      0.81      0.80     37500\n",
      "weighted avg       0.81      0.80      0.80     37500\n",
      "\n"
     ]
    }
   ],
   "source": [
    "pred = classifier.predict_classes(normalizer.transform(x_train))\n",
    "print(classification_report(pred, y_train))"
   ]
  },
  {
   "cell_type": "code",
   "execution_count": 39,
   "metadata": {},
   "outputs": [
    {
     "name": "stdout",
     "output_type": "stream",
     "text": [
      "              precision    recall  f1-score   support\n",
      "\n",
      "           0       0.85      0.74      0.79      7358\n",
      "           1       0.69      0.81      0.74      5142\n",
      "\n",
      "    accuracy                           0.77     12500\n",
      "   macro avg       0.77      0.78      0.77     12500\n",
      "weighted avg       0.78      0.77      0.77     12500\n",
      "\n"
     ]
    }
   ],
   "source": [
    "pred = classifier.predict_classes(normalizer.transform(x_test))\n",
    "print(classification_report(pred, y_test))"
   ]
  },
  {
   "cell_type": "code",
   "execution_count": 38,
   "metadata": {},
   "outputs": [],
   "source": [
    "from typing import List, Tuple"
   ]
  },
  {
   "cell_type": "code",
   "execution_count": 39,
   "metadata": {},
   "outputs": [],
   "source": [
    "def create_bootstrap_samples(data: np.array, n_samples: int = 1000) -> np.array:\n",
    "    \"\"\"\n",
    "    Создание бутстреп-выборок.\n",
    "\n",
    "    Parameters\n",
    "    ----------\n",
    "    data: np.array\n",
    "        Исходная выборка, которая будет использоваться для\n",
    "        создания бутстреп выборок.\n",
    "\n",
    "    n_samples: int, optional, default = 1000\n",
    "        Количество создаваемых бутстреп выборок.\n",
    "        Опциональный параметр, по умолчанию, равен 1000.\n",
    "\n",
    "    Returns\n",
    "    -------\n",
    "    bootstrap_idx: np.array\n",
    "        Матрица индексов, для создания бутстреп выборок.\n",
    "\n",
    "    \"\"\"\n",
    "    bootstrap_idx = np.random.randint(\n",
    "        low=0, high=len(data), size=(n_samples, len(data))\n",
    "    )\n",
    "    return bootstrap_idx\n",
    "\n",
    "\n",
    "def create_bootstrap_metrics(y_true: np.array,\n",
    "                             y_pred: np.array,\n",
    "                             metric: callable,\n",
    "                             n_samlpes: int = 1000) -> List[float]:\n",
    "    \"\"\"\n",
    "    Вычисление бутстреп оценок.\n",
    "\n",
    "    Parameters\n",
    "    ----------\n",
    "    y_true: np.array\n",
    "        Вектор целевой переменной.\n",
    "\n",
    "    y_pred: np.array\n",
    "        Вектор прогнозов.\n",
    "\n",
    "    metric: callable\n",
    "        Функция для вычисления метрики.\n",
    "        Функция должна принимать 2 аргумента: y_true, y_pred.\n",
    "\n",
    "    n_samples: int, optional, default = 1000\n",
    "        Количество создаваемых бутстреп выборок.\n",
    "        Опциональный параметр, по умолчанию, равен 1000.\n",
    "\n",
    "    Returns\n",
    "    -------\n",
    "    bootstrap_metrics: List[float]\n",
    "        Список со значениями метрики качества на каждой бустреп выборке.\n",
    "\n",
    "    \"\"\"\n",
    "    scores = []\n",
    "\n",
    "    if isinstance(y_true, pd.Series):\n",
    "        y_true = y_true.values\n",
    "\n",
    "    bootstrap_idx = create_bootstrap_samples(y_true)\n",
    "    for idx in bootstrap_idx:\n",
    "        y_true_bootstrap = y_true[idx]\n",
    "        y_pred_bootstrap = y_pred[idx]\n",
    "\n",
    "        score = metric(y_true_bootstrap, y_pred_bootstrap)\n",
    "        scores.append(score)\n",
    "\n",
    "    return scores\n",
    "\n",
    "\n",
    "def calculate_confidence_interval(scores: list, conf_interval: float = 0.95) -> Tuple[float]:\n",
    "    \"\"\"\n",
    "    Вычисление доверительного интервала.\n",
    "\n",
    "    Parameters\n",
    "    ----------\n",
    "    scores: List[float / int]\n",
    "        Список с оценками изучаемой величины.\n",
    "\n",
    "    conf_interval: float, optional, default = 0.95\n",
    "        Уровень доверия для построения интервала.\n",
    "        Опциональный параметр, по умолчанию, равен 0.95.\n",
    "\n",
    "    Returns\n",
    "    -------\n",
    "    conf_interval: Tuple[float]\n",
    "        Кортеж с границами доверительного интервала.\n",
    "\n",
    "    \"\"\"\n",
    "    left_bound = np.percentile(\n",
    "        scores, ((1 - conf_interval) / 2) * 100\n",
    "    )\n",
    "    right_bound = np.percentile(\n",
    "        scores, (conf_interval + ((1 - conf_interval) / 2)) * 100\n",
    "    )\n",
    "    \n",
    "    return left_bound, right_bound"
   ]
  },
  {
   "cell_type": "code",
   "execution_count": 40,
   "metadata": {},
   "outputs": [
    {
     "name": "stdout",
     "output_type": "stream",
     "text": [
      "(0.7386304795108573, 0.7624090920300678)\n"
     ]
    }
   ],
   "source": [
    "scores = create_bootstrap_metrics(y_test, clf2.predict(x_test), roc_auc_score)\n",
    "\n",
    "print(calculate_confidence_interval(scores))"
   ]
  },
  {
   "cell_type": "code",
   "execution_count": 41,
   "metadata": {},
   "outputs": [],
   "source": [
    "import pickle"
   ]
  },
  {
   "cell_type": "code",
   "execution_count": 42,
   "metadata": {},
   "outputs": [],
   "source": [
    "with open('./msg_classifier.pickle', 'wb') as f:\n",
    "    pickle.dump(clf2, f)"
   ]
  },
  {
   "cell_type": "code",
   "execution_count": 44,
   "metadata": {},
   "outputs": [
    {
     "data": {
      "text/plain": [
       "<bound method CatBoostClassifier.predict_proba of <catboost.core.CatBoostClassifier object at 0x7fede379e8d0>>"
      ]
     },
     "execution_count": 44,
     "metadata": {},
     "output_type": "execute_result"
    }
   ],
   "source": [
    "clf2.predict_proba"
   ]
  },
  {
   "cell_type": "code",
   "execution_count": null,
   "metadata": {},
   "outputs": [],
   "source": []
  }
 ],
 "metadata": {
  "kernelspec": {
   "display_name": "Python 3",
   "language": "python",
   "name": "python3"
  },
  "language_info": {
   "codemirror_mode": {
    "name": "ipython",
    "version": 3
   },
   "file_extension": ".py",
   "mimetype": "text/x-python",
   "name": "python",
   "nbconvert_exporter": "python",
   "pygments_lexer": "ipython3",
   "version": "3.6.3"
  }
 },
 "nbformat": 4,
 "nbformat_minor": 4
}
